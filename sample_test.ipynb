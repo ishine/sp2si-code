{
 "cells": [
  {
   "cell_type": "code",
   "execution_count": 1,
   "metadata": {},
   "outputs": [
    {
     "name": "stderr",
     "output_type": "stream",
     "text": [
      "/home/jpfire/miniconda2/envs/py2.7/lib/python2.7/site-packages/librosa/__init__.py:35: FutureWarning: You are using librosa with Python 2. Please note that librosa 0.7 will be the last version to support Python 2, after which it will require Python 3 or later.\n",
      "  FutureWarning)\n",
      "Using TensorFlow backend.\n"
     ]
    },
    {
     "name": "stdout",
     "output_type": "stream",
     "text": [
      "Imported all modules\n"
     ]
    },
    {
     "name": "stderr",
     "output_type": "stream",
     "text": [
      "/home/jpfire/miniconda2/envs/py2.7/lib/python2.7/site-packages/torch/nn/modules/rnn.py:38: UserWarning: dropout option adds dropout after all but last recurrent layer, so non-zero dropout expects num_layers greater than 1, but got dropout=0.3 and num_layers=1\n",
      "  \"num_layers={}\".format(dropout, num_layers))\n",
      "/home/jpfire/miniconda2/envs/py2.7/lib/python2.7/site-packages/torch/nn/modules/rnn.py:38: UserWarning: dropout option adds dropout after all but last recurrent layer, so non-zero dropout expects num_layers greater than 1, but got dropout=0.2 and num_layers=1\n",
      "  \"num_layers={}\".format(dropout, num_layers))\n",
      "/home/jpfire/miniconda2/envs/py2.7/lib/python2.7/site-packages/torch/nn/modules/rnn.py:38: UserWarning: dropout option adds dropout after all but last recurrent layer, so non-zero dropout expects num_layers greater than 1, but got dropout=0.1 and num_layers=1\n",
      "  \"num_layers={}\".format(dropout, num_layers))\n"
     ]
    },
    {
     "name": "stdout",
     "output_type": "stream",
     "text": [
      "Reading audio, to collect all of it in a dictionary\n",
      "All audio read & stored\n",
      "Samples retrieved:  [1106]\n",
      "Samples retrieved:  [172]\n",
      "Processing sample 0\n",
      "Processing sample 1\n",
      "All audio read & stored\n",
      "Processing sample  0\n",
      "Processing sample  1\n",
      "Processing sample  2\n",
      "Processing sample  3\n",
      "Processing sample  4\n",
      "Processing sample  5\n",
      "Processing sample  6\n",
      "Processing sample  7\n",
      "Processing sample  8\n",
      "Processing sample  9\n",
      "Processing sample  10\n",
      "Processing sample  11\n",
      "Processing sample  12\n",
      "Processing sample  13\n",
      "Processing sample  14\n",
      "Processing sample  15\n",
      "Processing sample  16\n",
      "Processing sample  17\n",
      "Processing sample  18\n",
      "Processing sample  19\n",
      "Processing sample  20\n",
      "Processing sample  21\n",
      "Processing sample  22\n",
      "Processing sample  23\n",
      "Processing sample  24\n",
      "Processing sample  25\n",
      "Processing sample  26\n",
      "Processing sample  27\n",
      "Processing sample  28\n",
      "Processing sample  29\n",
      "PMTL (mean LSD): 10.868318303426106\n",
      "PMSE (mean LSD): 11.027557055155436\n",
      "B1 (mean LSD): 13.980265045166016\n",
      "B2 (mean LSD): 11.082868766784667\n"
     ]
    }
   ],
   "source": [
    "run evaluation_sp2si.py"
   ]
  },
  {
   "cell_type": "code",
   "execution_count": 3,
   "metadata": {},
   "outputs": [
    {
     "name": "stdout",
     "output_type": "stream",
     "text": [
      "All audio read & stored\n",
      "Processing sample  0\n",
      "Processing sample  1\n",
      "Processing sample  2\n",
      "Processing sample  3\n",
      "Processing sample  4\n",
      "Processing sample  5\n",
      "Processing sample  6\n",
      "Processing sample  7\n",
      "Processing sample  8\n",
      "Processing sample  9\n",
      "Processing sample  10\n",
      "Processing sample  11\n",
      "Processing sample  12\n",
      "Processing sample  13\n",
      "Processing sample  14\n",
      "PMTL (mean LSD): 10.190917269388835\n",
      "PMSE (mean LSD): 10.26295674641927\n",
      "B2 (mean LSD): 10.484720102945964\n"
     ]
    }
   ],
   "source": [
    "stats = eval_sys(['PMTL', 'PMSE', 'B2'], n_samp=15) # Need more samples for results to converge better"
   ]
  },
  {
   "cell_type": "code",
   "execution_count": 5,
   "metadata": {},
   "outputs": [
    {
     "name": "stdout",
     "output_type": "stream",
     "text": [
      "Dataloader_sp2si.py   networks.py        \u001b[0m\u001b[01;34mruntime_folder\u001b[0m/\r\n",
      "Dataloader_sp2si.pyc  networks.pyc       Untitled1.ipynb\r\n",
      "environment.yml       \u001b[01;34mNUS_48E\u001b[0m/           Untitled.ipynb\r\n",
      "evaluation_sp2si.py   NUS_data_dict.pkl  utils.py\r\n",
      "\u001b[01;34mmelody_contour\u001b[0m/       \u001b[01;34moutput\u001b[0m/            utils.pyc\r\n",
      "model3_patch25        README.md          \u001b[01;34mVocalMelodyExtPatchCNN-master\u001b[0m/\r\n"
     ]
    }
   ],
   "source": [
    "ls # To show the file structure of the directory"
   ]
  },
  {
   "cell_type": "code",
   "execution_count": 6,
   "metadata": {},
   "outputs": [
    {
     "name": "stdout",
     "output_type": "stream",
     "text": [
      "decphn_vsp2si8.8sm_phnencE8.pt  net2_vsp2si8.3nd.pt\r\n",
      "net1_vsp2si8.3nd.pt             net2_vsp2si8.8sm_phnencE8.pt\r\n",
      "net1_vsp2si8.8sm_phnencE8.pt    net2_vsp2sibase.pt\r\n",
      "net1_vsp2sibase.pt              net2_vsp2si_nomelody.pt\r\n",
      "net1_vsp2si_nomelody.pt         sample_doc\r\n"
     ]
    }
   ],
   "source": [
    "ls output/models/"
   ]
  },
  {
   "cell_type": "code",
   "execution_count": null,
   "metadata": {},
   "outputs": [],
   "source": []
  }
 ],
 "metadata": {
  "kernelspec": {
   "display_name": "Python 2",
   "language": "python",
   "name": "python2"
  },
  "language_info": {
   "codemirror_mode": {
    "name": "ipython",
    "version": 2
   },
   "file_extension": ".py",
   "mimetype": "text/x-python",
   "name": "python",
   "nbconvert_exporter": "python",
   "pygments_lexer": "ipython2",
   "version": "2.7.13"
  }
 },
 "nbformat": 4,
 "nbformat_minor": 2
}
